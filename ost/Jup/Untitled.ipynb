{
 "cells": [
  {
   "cell_type": "code",
   "execution_count": 14,
   "metadata": {
    "scrolled": false
   },
   "outputs": [
    {
     "ename": "SyntaxError",
     "evalue": "invalid syntax (<ipython-input-14-a9652d88301b>, line 25)",
     "output_type": "error",
     "traceback": [
      "\u001b[1;36m  File \u001b[1;32m\"<ipython-input-14-a9652d88301b>\"\u001b[1;36m, line \u001b[1;32m25\u001b[0m\n\u001b[1;33m    D = (num2 ** 2) - (4 * num1 * num3)\u001b[0m\n\u001b[1;37m    ^\u001b[0m\n\u001b[1;31mSyntaxError\u001b[0m\u001b[1;31m:\u001b[0m invalid syntax\n"
     ]
    }
   ],
   "source": [
    "import random as r\n",
    "import os\n",
    "import math\n",
    "\n",
    "items = ['-', '+']\n",
    "\n",
    "while True:\n",
    "\n",
    "    os.system('cls')\n",
    "    sign1 = r.choice(items)\n",
    "    sign2 = r.choice(items)\n",
    "    num1 = r.randrange(-30, 30)\n",
    "    num2 = r.randrange(-30, 30)\n",
    "    num3 = r.randrange(-10, 20)\n",
    "\n",
    "    if int(num2) < 0:\n",
    "        sign1 = ''\n",
    "    if int(num3) < 0:\n",
    "        sign2 = ''\n",
    "\n",
    "    print(str(num1) + 'x²' + sign1 + str(num2) + 'x' + sign2 + str(num3)\n",
    "\n",
    "    os.system('pause')\n",
    "\n",
    "    D = (num2 ** 2) - (4 * num1 * num3)\n",
    "    \n",
    "    if D == 0:\n",
    "        print(-(num2) / (2 * num1))\n",
    "\n",
    "    elif D > 1:\n",
    "        print((-(num2) - math.sqrt(D)) / (2 * num1))\n",
    "        print((-(num2) + math.sqrt(D)) / (2 * num1))\n",
    "\n",
    "    elif D < 0:\n",
    "        print('No solve')\n"
   ]
  },
  {
   "cell_type": "code",
   "execution_count": null,
   "metadata": {
    "collapsed": true
   },
   "outputs": [],
   "source": []
  }
 ],
 "metadata": {
  "kernelspec": {
   "display_name": "Python 3",
   "language": "python",
   "name": "python3"
  },
  "language_info": {
   "codemirror_mode": {
    "name": "ipython",
    "version": 3
   },
   "file_extension": ".py",
   "mimetype": "text/x-python",
   "name": "python",
   "nbconvert_exporter": "python",
   "pygments_lexer": "ipython3",
   "version": "3.6.3"
  }
 },
 "nbformat": 4,
 "nbformat_minor": 2
}
